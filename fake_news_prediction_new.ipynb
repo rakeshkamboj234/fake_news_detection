{
  "cells": [
    {
      "cell_type": "markdown",
      "metadata": {
        "id": "qAMMtjLu6DuR"
      },
      "source": [
        "### Fake News Detection \n"
      ]
    },
    {
      "cell_type": "markdown",
      "source": [
        "#import library"
      ],
      "metadata": {
        "id": "XONCrTJN6CQx"
      }
    },
    {
      "cell_type": "code",
      "source": [
        "#!pip install nltk"
      ],
      "metadata": {
        "id": "8Wl9_8kt9_nb"
      },
      "execution_count": null,
      "outputs": []
    },
    {
      "cell_type": "code",
      "source": [
        "# download glove and unzip it in Notebook.\n",
        "#!wget http://nlp.stanford.edu/data/glove.6B.zip\n",
        "#!unzip glove*.zip"
      ],
      "metadata": {
        "id": "oeN3K3Q7bk7h"
      },
      "execution_count": null,
      "outputs": []
    },
    {
      "cell_type": "code",
      "execution_count": null,
      "metadata": {
        "id": "XEVtjS_d6Fvb",
        "colab": {
          "base_uri": "https://localhost:8080/"
        },
        "outputId": "d5a403d9-73a2-4cec-b479-6307c2ab571d"
      },
      "outputs": [
        {
          "output_type": "stream",
          "name": "stderr",
          "text": [
            "[nltk_data] Downloading package wordnet to /root/nltk_data...\n",
            "[nltk_data]   Package wordnet is already up-to-date!\n",
            "[nltk_data] Downloading package omw-1.4 to /root/nltk_data...\n",
            "[nltk_data]   Package omw-1.4 is already up-to-date!\n",
            "[nltk_data] Downloading package stopwords to /root/nltk_data...\n",
            "[nltk_data]   Package stopwords is already up-to-date!\n"
          ]
        }
      ],
      "source": [
        "import pandas as pd \n",
        "import csv\n",
        "from tensorflow.keras.preprocessing.text import Tokenizer\n",
        "from tensorflow.keras.preprocessing.sequence import pad_sequences\n",
        "import nltk\n",
        "nltk.download('wordnet')\n",
        "nltk.download('omw-1.4')\n",
        "from nltk.corpus import stopwords\n",
        "nltk.download('stopwords')\n",
        "import tensorflow as tf\n",
        "import numpy as np\n",
        "import pickle\n",
        "import random "
      ]
    },
    {
      "cell_type": "code",
      "source": [
        "random.seed(0)"
      ],
      "metadata": {
        "id": "nKRYqMd16mqT"
      },
      "execution_count": null,
      "outputs": []
    },
    {
      "cell_type": "markdown",
      "source": [
        "**Download Stop words**"
      ],
      "metadata": {
        "id": "9ZQBWfO66Lfs"
      }
    },
    {
      "cell_type": "code",
      "source": [
        "stop = stopwords.words('english')"
      ],
      "metadata": {
        "id": "4lQgSC1657b_"
      },
      "execution_count": null,
      "outputs": []
    },
    {
      "cell_type": "markdown",
      "source": [
        "**Load train csv file**"
      ],
      "metadata": {
        "id": "YUuZTv7J6TBG"
      }
    },
    {
      "cell_type": "code",
      "source": [
        "df_train = pd.read_csv('train.csv',  on_bad_lines='skip')\n",
        "df_train.shape"
      ],
      "metadata": {
        "id": "566JRpg15l1H",
        "colab": {
          "base_uri": "https://localhost:8080/"
        },
        "outputId": "592601ff-df3b-47fd-d6a6-61dfeb9fb7be"
      },
      "execution_count": null,
      "outputs": [
        {
          "output_type": "execute_result",
          "data": {
            "text/plain": [
              "(20800, 5)"
            ]
          },
          "metadata": {},
          "execution_count": 6
        }
      ]
    },
    {
      "cell_type": "markdown",
      "source": [
        "**Load test csv file**"
      ],
      "metadata": {
        "id": "9nSMREwf6Zn6"
      }
    },
    {
      "cell_type": "code",
      "execution_count": null,
      "metadata": {
        "id": "WaHO-Xtq6Tt1",
        "colab": {
          "base_uri": "https://localhost:8080/",
          "height": 206
        },
        "outputId": "b27ed238-db5c-4009-e14f-5bfa884b4b72"
      },
      "outputs": [
        {
          "output_type": "execute_result",
          "data": {
            "text/plain": [
              "      id                                              title  \\\n",
              "0  20800  Specter of Trump Loosens Tongues, if Not Purse...   \n",
              "1  20801  Russian warships ready to strike terrorists ne...   \n",
              "2  20802  #NoDAPL: Native American Leaders Vow to Stay A...   \n",
              "3  20803  Tim Tebow Will Attempt Another Comeback, This ...   \n",
              "4  20804                    Keiser Report: Meme Wars (E995)   \n",
              "\n",
              "                    author                                               text  \\\n",
              "0         David Streitfeld  PALO ALTO, Calif.  —   After years of scorning...   \n",
              "1                      NaN  Russian warships ready to strike terrorists ne...   \n",
              "2            Common Dreams  Videos #NoDAPL: Native American Leaders Vow to...   \n",
              "3            Daniel Victor  If at first you don’t succeed, try a different...   \n",
              "4  Truth Broadcast Network  42 mins ago 1 Views 0 Comments 0 Likes 'For th...   \n",
              "\n",
              "   label  \n",
              "0      0  \n",
              "1      1  \n",
              "2      0  \n",
              "3      1  \n",
              "4      1  "
            ],
            "text/html": [
              "\n",
              "  <div id=\"df-a4e0ace6-bded-47ff-a4db-3df34452238b\">\n",
              "    <div class=\"colab-df-container\">\n",
              "      <div>\n",
              "<style scoped>\n",
              "    .dataframe tbody tr th:only-of-type {\n",
              "        vertical-align: middle;\n",
              "    }\n",
              "\n",
              "    .dataframe tbody tr th {\n",
              "        vertical-align: top;\n",
              "    }\n",
              "\n",
              "    .dataframe thead th {\n",
              "        text-align: right;\n",
              "    }\n",
              "</style>\n",
              "<table border=\"1\" class=\"dataframe\">\n",
              "  <thead>\n",
              "    <tr style=\"text-align: right;\">\n",
              "      <th></th>\n",
              "      <th>id</th>\n",
              "      <th>title</th>\n",
              "      <th>author</th>\n",
              "      <th>text</th>\n",
              "      <th>label</th>\n",
              "    </tr>\n",
              "  </thead>\n",
              "  <tbody>\n",
              "    <tr>\n",
              "      <th>0</th>\n",
              "      <td>20800</td>\n",
              "      <td>Specter of Trump Loosens Tongues, if Not Purse...</td>\n",
              "      <td>David Streitfeld</td>\n",
              "      <td>PALO ALTO, Calif.  —   After years of scorning...</td>\n",
              "      <td>0</td>\n",
              "    </tr>\n",
              "    <tr>\n",
              "      <th>1</th>\n",
              "      <td>20801</td>\n",
              "      <td>Russian warships ready to strike terrorists ne...</td>\n",
              "      <td>NaN</td>\n",
              "      <td>Russian warships ready to strike terrorists ne...</td>\n",
              "      <td>1</td>\n",
              "    </tr>\n",
              "    <tr>\n",
              "      <th>2</th>\n",
              "      <td>20802</td>\n",
              "      <td>#NoDAPL: Native American Leaders Vow to Stay A...</td>\n",
              "      <td>Common Dreams</td>\n",
              "      <td>Videos #NoDAPL: Native American Leaders Vow to...</td>\n",
              "      <td>0</td>\n",
              "    </tr>\n",
              "    <tr>\n",
              "      <th>3</th>\n",
              "      <td>20803</td>\n",
              "      <td>Tim Tebow Will Attempt Another Comeback, This ...</td>\n",
              "      <td>Daniel Victor</td>\n",
              "      <td>If at first you don’t succeed, try a different...</td>\n",
              "      <td>1</td>\n",
              "    </tr>\n",
              "    <tr>\n",
              "      <th>4</th>\n",
              "      <td>20804</td>\n",
              "      <td>Keiser Report: Meme Wars (E995)</td>\n",
              "      <td>Truth Broadcast Network</td>\n",
              "      <td>42 mins ago 1 Views 0 Comments 0 Likes 'For th...</td>\n",
              "      <td>1</td>\n",
              "    </tr>\n",
              "  </tbody>\n",
              "</table>\n",
              "</div>\n",
              "      <button class=\"colab-df-convert\" onclick=\"convertToInteractive('df-a4e0ace6-bded-47ff-a4db-3df34452238b')\"\n",
              "              title=\"Convert this dataframe to an interactive table.\"\n",
              "              style=\"display:none;\">\n",
              "        \n",
              "  <svg xmlns=\"http://www.w3.org/2000/svg\" height=\"24px\"viewBox=\"0 0 24 24\"\n",
              "       width=\"24px\">\n",
              "    <path d=\"M0 0h24v24H0V0z\" fill=\"none\"/>\n",
              "    <path d=\"M18.56 5.44l.94 2.06.94-2.06 2.06-.94-2.06-.94-.94-2.06-.94 2.06-2.06.94zm-11 1L8.5 8.5l.94-2.06 2.06-.94-2.06-.94L8.5 2.5l-.94 2.06-2.06.94zm10 10l.94 2.06.94-2.06 2.06-.94-2.06-.94-.94-2.06-.94 2.06-2.06.94z\"/><path d=\"M17.41 7.96l-1.37-1.37c-.4-.4-.92-.59-1.43-.59-.52 0-1.04.2-1.43.59L10.3 9.45l-7.72 7.72c-.78.78-.78 2.05 0 2.83L4 21.41c.39.39.9.59 1.41.59.51 0 1.02-.2 1.41-.59l7.78-7.78 2.81-2.81c.8-.78.8-2.07 0-2.86zM5.41 20L4 18.59l7.72-7.72 1.47 1.35L5.41 20z\"/>\n",
              "  </svg>\n",
              "      </button>\n",
              "      \n",
              "  <style>\n",
              "    .colab-df-container {\n",
              "      display:flex;\n",
              "      flex-wrap:wrap;\n",
              "      gap: 12px;\n",
              "    }\n",
              "\n",
              "    .colab-df-convert {\n",
              "      background-color: #E8F0FE;\n",
              "      border: none;\n",
              "      border-radius: 50%;\n",
              "      cursor: pointer;\n",
              "      display: none;\n",
              "      fill: #1967D2;\n",
              "      height: 32px;\n",
              "      padding: 0 0 0 0;\n",
              "      width: 32px;\n",
              "    }\n",
              "\n",
              "    .colab-df-convert:hover {\n",
              "      background-color: #E2EBFA;\n",
              "      box-shadow: 0px 1px 2px rgba(60, 64, 67, 0.3), 0px 1px 3px 1px rgba(60, 64, 67, 0.15);\n",
              "      fill: #174EA6;\n",
              "    }\n",
              "\n",
              "    [theme=dark] .colab-df-convert {\n",
              "      background-color: #3B4455;\n",
              "      fill: #D2E3FC;\n",
              "    }\n",
              "\n",
              "    [theme=dark] .colab-df-convert:hover {\n",
              "      background-color: #434B5C;\n",
              "      box-shadow: 0px 1px 3px 1px rgba(0, 0, 0, 0.15);\n",
              "      filter: drop-shadow(0px 1px 2px rgba(0, 0, 0, 0.3));\n",
              "      fill: #FFFFFF;\n",
              "    }\n",
              "  </style>\n",
              "\n",
              "      <script>\n",
              "        const buttonEl =\n",
              "          document.querySelector('#df-a4e0ace6-bded-47ff-a4db-3df34452238b button.colab-df-convert');\n",
              "        buttonEl.style.display =\n",
              "          google.colab.kernel.accessAllowed ? 'block' : 'none';\n",
              "\n",
              "        async function convertToInteractive(key) {\n",
              "          const element = document.querySelector('#df-a4e0ace6-bded-47ff-a4db-3df34452238b');\n",
              "          const dataTable =\n",
              "            await google.colab.kernel.invokeFunction('convertToInteractive',\n",
              "                                                     [key], {});\n",
              "          if (!dataTable) return;\n",
              "\n",
              "          const docLinkHtml = 'Like what you see? Visit the ' +\n",
              "            '<a target=\"_blank\" href=https://colab.research.google.com/notebooks/data_table.ipynb>data table notebook</a>'\n",
              "            + ' to learn more about interactive tables.';\n",
              "          element.innerHTML = '';\n",
              "          dataTable['output_type'] = 'display_data';\n",
              "          await google.colab.output.renderOutput(dataTable, element);\n",
              "          const docLink = document.createElement('div');\n",
              "          docLink.innerHTML = docLinkHtml;\n",
              "          element.appendChild(docLink);\n",
              "        }\n",
              "      </script>\n",
              "    </div>\n",
              "  </div>\n",
              "  "
            ]
          },
          "metadata": {},
          "execution_count": 7
        }
      ],
      "source": [
        "df_test = pd.read_csv('test.csv',on_bad_lines='skip')\n",
        "df_labels = pd.read_csv('submit.csv', on_bad_lines='skip')\n",
        "\n",
        "merged_df = pd.merge(df_test[:1000],df_labels[:1000])\n",
        "merged_df.head()"
      ]
    },
    {
      "cell_type": "code",
      "source": [
        "frames = [df_train, merged_df]\n",
        "df_train = pd.concat(frames)\n",
        "df_train.shape"
      ],
      "metadata": {
        "colab": {
          "base_uri": "https://localhost:8080/"
        },
        "id": "6OSfJnBkDu86",
        "outputId": "ca0d55f7-5957-42cf-e2e2-40e7d47a9ecf"
      },
      "execution_count": null,
      "outputs": [
        {
          "output_type": "execute_result",
          "data": {
            "text/plain": [
              "(21800, 5)"
            ]
          },
          "metadata": {},
          "execution_count": 8
        }
      ]
    },
    {
      "cell_type": "code",
      "source": [
        "df_labels['label']"
      ],
      "metadata": {
        "colab": {
          "base_uri": "https://localhost:8080/"
        },
        "id": "xKmjP34XrCRG",
        "outputId": "8757db47-a2c5-482f-fda0-536a9bc6868e"
      },
      "execution_count": null,
      "outputs": [
        {
          "output_type": "execute_result",
          "data": {
            "text/plain": [
              "0       0\n",
              "1       1\n",
              "2       0\n",
              "3       1\n",
              "4       1\n",
              "       ..\n",
              "5195    0\n",
              "5196    1\n",
              "5197    0\n",
              "5198    1\n",
              "5199    0\n",
              "Name: label, Length: 5200, dtype: int64"
            ]
          },
          "metadata": {},
          "execution_count": 9
        }
      ]
    },
    {
      "cell_type": "markdown",
      "source": [
        "Checking the training dataset label distribution to ensure that,\n",
        "We have evenly distributed prediction class "
      ],
      "metadata": {
        "id": "ESpU_bkv6hU3"
      }
    },
    {
      "cell_type": "code",
      "execution_count": null,
      "metadata": {
        "colab": {
          "base_uri": "https://localhost:8080/",
          "height": 279
        },
        "id": "w09XUqNr7f9d",
        "outputId": "8526995a-ed4a-4907-f37c-94303ab2db28"
      },
      "outputs": [
        {
          "output_type": "execute_result",
          "data": {
            "text/plain": [
              "<matplotlib.axes._subplots.AxesSubplot at 0x7f5cb6f9ecd0>"
            ]
          },
          "metadata": {},
          "execution_count": 10
        },
        {
          "output_type": "display_data",
          "data": {
            "text/plain": [
              "<Figure size 432x288 with 1 Axes>"
            ],
            "image/png": "[encoded data removed]"
          },
          "metadata": {
            "needs_background": "light"
          }
        }
      ],
      "source": [
        "df_train['label'].value_counts().plot.bar()"
      ]
    },
    {
      "cell_type": "code",
      "execution_count": null,
      "metadata": {
        "id": "e63ImZt17yWA"
      },
      "outputs": [],
      "source": [
        "df_author = df_train['author'].value_counts().reset_index()"
      ]
    },
    {
      "cell_type": "code",
      "execution_count": null,
      "metadata": {
        "colab": {
          "base_uri": "https://localhost:8080/",
          "height": 424
        },
        "id": "bsLEBqKO8kOm",
        "outputId": "7fe5cc58-42c9-4a93-f3c2-66241e434a65"
      },
      "outputs": [
        {
          "output_type": "execute_result",
          "data": {
            "text/plain": [
              "                       index  author\n",
              "0                    Pam Key     257\n",
              "1                      admin     200\n",
              "2              Jerome Hudson     174\n",
              "3           Charlie Spiering     149\n",
              "4               John Hayward     146\n",
              "..                       ...     ...\n",
              "652    Frank M. Wanderer PhD       6\n",
              "653  Michael J. de la Merced       6\n",
              "654              Edward Wong       6\n",
              "655           The Anti-Media       6\n",
              "656             Melena Ryzik       6\n",
              "\n",
              "[657 rows x 2 columns]"
            ],
            "text/html": [
              "\n",
              "  <div id=\"df-6f001dad-00c5-41f3-afd5-b1e29aae0864\">\n",
              "    <div class=\"colab-df-container\">\n",
              "      <div>\n",
              "<style scoped>\n",
              "    .dataframe tbody tr th:only-of-type {\n",
              "        vertical-align: middle;\n",
              "    }\n",
              "\n",
              "    .dataframe tbody tr th {\n",
              "        vertical-align: top;\n",
              "    }\n",
              "\n",
              "    .dataframe thead th {\n",
              "        text-align: right;\n",
              "    }\n",
              "</style>\n",
              "<table border=\"1\" class=\"dataframe\">\n",
              "  <thead>\n",
              "    <tr style=\"text-align: right;\">\n",
              "      <th></th>\n",
              "      <th>index</th>\n",
              "      <th>author</th>\n",
              "    </tr>\n",
              "  </thead>\n",
              "  <tbody>\n",
              "    <tr>\n",
              "      <th>0</th>\n",
              "      <td>Pam Key</td>\n",
              "      <td>257</td>\n",
              "    </tr>\n",
              "    <tr>\n",
              "      <th>1</th>\n",
              "      <td>admin</td>\n",
              "      <td>200</td>\n",
              "    </tr>\n",
              "    <tr>\n",
              "      <th>2</th>\n",
              "      <td>Jerome Hudson</td>\n",
              "      <td>174</td>\n",
              "    </tr>\n",
              "    <tr>\n",
              "      <th>3</th>\n",
              "      <td>Charlie Spiering</td>\n",
              "      <td>149</td>\n",
              "    </tr>\n",
              "    <tr>\n",
              "      <th>4</th>\n",
              "      <td>John Hayward</td>\n",
              "      <td>146</td>\n",
              "    </tr>\n",
              "    <tr>\n",
              "      <th>...</th>\n",
              "      <td>...</td>\n",
              "      <td>...</td>\n",
              "    </tr>\n",
              "    <tr>\n",
              "      <th>652</th>\n",
              "      <td>Frank M. Wanderer PhD</td>\n",
              "      <td>6</td>\n",
              "    </tr>\n",
              "    <tr>\n",
              "      <th>653</th>\n",
              "      <td>Michael J. de la Merced</td>\n",
              "      <td>6</td>\n",
              "    </tr>\n",
              "    <tr>\n",
              "      <th>654</th>\n",
              "      <td>Edward Wong</td>\n",
              "      <td>6</td>\n",
              "    </tr>\n",
              "    <tr>\n",
              "      <th>655</th>\n",
              "      <td>The Anti-Media</td>\n",
              "      <td>6</td>\n",
              "    </tr>\n",
              "    <tr>\n",
              "      <th>656</th>\n",
              "      <td>Melena Ryzik</td>\n",
              "      <td>6</td>\n",
              "    </tr>\n",
              "  </tbody>\n",
              "</table>\n",
              "<p>657 rows × 2 columns</p>\n",
              "</div>\n",
              "      <button class=\"colab-df-convert\" onclick=\"convertToInteractive('df-6f001dad-00c5-41f3-afd5-b1e29aae0864')\"\n",
              "              title=\"Convert this dataframe to an interactive table.\"\n",
              "              style=\"display:none;\">\n",
              "        \n",
              "  <svg xmlns=\"http://www.w3.org/2000/svg\" height=\"24px\"viewBox=\"0 0 24 24\"\n",
              "       width=\"24px\">\n",
              "    <path d=\"M0 0h24v24H0V0z\" fill=\"none\"/>\n",
              "    <path d=\"M18.56 5.44l.94 2.06.94-2.06 2.06-.94-2.06-.94-.94-2.06-.94 2.06-2.06.94zm-11 1L8.5 8.5l.94-2.06 2.06-.94-2.06-.94L8.5 2.5l-.94 2.06-2.06.94zm10 10l.94 2.06.94-2.06 2.06-.94-2.06-.94-.94-2.06-.94 2.06-2.06.94z\"/><path d=\"M17.41 7.96l-1.37-1.37c-.4-.4-.92-.59-1.43-.59-.52 0-1.04.2-1.43.59L10.3 9.45l-7.72 7.72c-.78.78-.78 2.05 0 2.83L4 21.41c.39.39.9.59 1.41.59.51 0 1.02-.2 1.41-.59l7.78-7.78 2.81-2.81c.8-.78.8-2.07 0-2.86zM5.41 20L4 18.59l7.72-7.72 1.47 1.35L5.41 20z\"/>\n",
              "  </svg>\n",
              "      </button>\n",
              "      \n",
              "  <style>\n",
              "    .colab-df-container {\n",
              "      display:flex;\n",
              "      flex-wrap:wrap;\n",
              "      gap: 12px;\n",
              "    }\n",
              "\n",
              "    .colab-df-convert {\n",
              "      background-color: #E8F0FE;\n",
              "      border: none;\n",
              "      border-radius: 50%;\n",
              "      cursor: pointer;\n",
              "      display: none;\n",
              "      fill: #1967D2;\n",
              "      height: 32px;\n",
              "      padding: 0 0 0 0;\n",
              "      width: 32px;\n",
              "    }\n",
              "\n",
              "    .colab-df-convert:hover {\n",
              "      background-color: #E2EBFA;\n",
              "      box-shadow: 0px 1px 2px rgba(60, 64, 67, 0.3), 0px 1px 3px 1px rgba(60, 64, 67, 0.15);\n",
              "      fill: #174EA6;\n",
              "    }\n",
              "\n",
              "    [theme=dark] .colab-df-convert {\n",
              "      background-color: #3B4455;\n",
              "      fill: #D2E3FC;\n",
              "    }\n",
              "\n",
              "    [theme=dark] .colab-df-convert:hover {\n",
              "      background-color: #434B5C;\n",
              "      box-shadow: 0px 1px 3px 1px rgba(0, 0, 0, 0.15);\n",
              "      filter: drop-shadow(0px 1px 2px rgba(0, 0, 0, 0.3));\n",
              "      fill: #FFFFFF;\n",
              "    }\n",
              "  </style>\n",
              "\n",
              "      <script>\n",
              "        const buttonEl =\n",
              "          document.querySelector('#df-6f001dad-00c5-41f3-afd5-b1e29aae0864 button.colab-df-convert');\n",
              "        buttonEl.style.display =\n",
              "          google.colab.kernel.accessAllowed ? 'block' : 'none';\n",
              "\n",
              "        async function convertToInteractive(key) {\n",
              "          const element = document.querySelector('#df-6f001dad-00c5-41f3-afd5-b1e29aae0864');\n",
              "          const dataTable =\n",
              "            await google.colab.kernel.invokeFunction('convertToInteractive',\n",
              "                                                     [key], {});\n",
              "          if (!dataTable) return;\n",
              "\n",
              "          const docLinkHtml = 'Like what you see? Visit the ' +\n",
              "            '<a target=\"_blank\" href=https://colab.research.google.com/notebooks/data_table.ipynb>data table notebook</a>'\n",
              "            + ' to learn more about interactive tables.';\n",
              "          element.innerHTML = '';\n",
              "          dataTable['output_type'] = 'display_data';\n",
              "          await google.colab.output.renderOutput(dataTable, element);\n",
              "          const docLink = document.createElement('div');\n",
              "          docLink.innerHTML = docLinkHtml;\n",
              "          element.appendChild(docLink);\n",
              "        }\n",
              "      </script>\n",
              "    </div>\n",
              "  </div>\n",
              "  "
            ]
          },
          "metadata": {},
          "execution_count": 12
        }
      ],
      "source": [
        "df_author[df_author['author']>5]"
      ]
    },
    {
      "cell_type": "markdown",
      "source": [
        "**Merging title and text data into single dataframe**"
      ],
      "metadata": {
        "id": "DDAF0k537W9c"
      }
    },
    {
      "cell_type": "code",
      "source": [
        "df_train.shape"
      ],
      "metadata": {
        "colab": {
          "base_uri": "https://localhost:8080/"
        },
        "id": "APR-86R5BNXH",
        "outputId": "be8d3076-9453-4749-b999-2a27a96c92b0"
      },
      "execution_count": null,
      "outputs": [
        {
          "output_type": "execute_result",
          "data": {
            "text/plain": [
              "(21800, 5)"
            ]
          },
          "metadata": {},
          "execution_count": 13
        }
      ]
    },
    {
      "cell_type": "code",
      "source": [
        "df_train[\"text\"].isnull().sum()"
      ],
      "metadata": {
        "colab": {
          "base_uri": "https://localhost:8080/"
        },
        "id": "ORo-LKPIAloh",
        "outputId": "74277589-6bf2-46e2-d744-cea3db5c157c"
      },
      "execution_count": null,
      "outputs": [
        {
          "output_type": "execute_result",
          "data": {
            "text/plain": [
              "42"
            ]
          },
          "metadata": {},
          "execution_count": 14
        }
      ]
    },
    {
      "cell_type": "code",
      "source": [
        "df_train[\"title\"].notnull().sum()"
      ],
      "metadata": {
        "colab": {
          "base_uri": "https://localhost:8080/"
        },
        "id": "MHXRz1vZFYvT",
        "outputId": "7015d155-7013-4681-d081-0fa515e0d404"
      },
      "execution_count": null,
      "outputs": [
        {
          "output_type": "execute_result",
          "data": {
            "text/plain": [
              "21219"
            ]
          },
          "metadata": {},
          "execution_count": 15
        }
      ]
    },
    {
      "cell_type": "code",
      "source": [
        "df_train = df_train[(df_train[\"text\"].notnull()) & (df_train[\"title\"].notnull())]"
      ],
      "metadata": {
        "id": "wbbfn23SCh_b"
      },
      "execution_count": null,
      "outputs": []
    },
    {
      "cell_type": "code",
      "execution_count": null,
      "metadata": {
        "id": "3tx8ZTJT-tyt",
        "colab": {
          "base_uri": "https://localhost:8080/"
        },
        "outputId": "ebc1dc06-3d94-48d6-9208-09dd552988fc"
      },
      "outputs": [
        {
          "output_type": "stream",
          "name": "stderr",
          "text": [
            "/usr/local/lib/python3.7/dist-packages/ipykernel_launcher.py:6: FutureWarning: The default value of regex will change from True to False in a future version.\n",
            "  \n"
          ]
        }
      ],
      "source": [
        "df_train[\"title_text\"]=df_train['author']+ \" \" + df_train['title']+\" \"+df_train['text']\n",
        "### covert to lowercase\n",
        "df_train[\"title_text\"]=df_train[\"title_text\"].str.lower()\n",
        "### removing special characters \n",
        "df_train[\"title_text\"]=df_train[\"title_text\"].str.replace(\"n’t\",\" not\")\n",
        "df_train[\"title_text\"]=df_train[\"title_text\"].str.replace('\\W', ' ')"
      ]
    },
    {
      "cell_type": "code",
      "source": [
        "df_train.shape"
      ],
      "metadata": {
        "colab": {
          "base_uri": "https://localhost:8080/"
        },
        "id": "SY93X2weBO5-",
        "outputId": "c9f6c8c3-3eb8-417d-de39-e211dbe4342a"
      },
      "execution_count": null,
      "outputs": [
        {
          "output_type": "execute_result",
          "data": {
            "text/plain": [
              "(21177, 6)"
            ]
          },
          "metadata": {},
          "execution_count": 18
        }
      ]
    },
    {
      "cell_type": "markdown",
      "source": [
        "**Removing all stop words from title text**"
      ],
      "metadata": {
        "id": "MAvr3NAC7lG4"
      }
    },
    {
      "cell_type": "code",
      "source": [
        "df_train['title_text'] =df_train['title_text'].astype(str)\n",
        "df_train['title_text'] = df_train['title_text'].apply(lambda x: ' '.join([word for word in x.split() if word not in (stop)]))"
      ],
      "metadata": {
        "id": "snyUGv9zC_Mo"
      },
      "execution_count": null,
      "outputs": []
    },
    {
      "cell_type": "markdown",
      "source": [
        "**Check sample data**"
      ],
      "metadata": {
        "id": "46c0L4Tq7vJS"
      }
    },
    {
      "cell_type": "code",
      "execution_count": null,
      "metadata": {
        "colab": {
          "base_uri": "https://localhost:8080/",
          "height": 206
        },
        "id": "XhJq6AV5_V9C",
        "outputId": "98277eab-4fc6-4fda-b236-193d3bcdd31d"
      },
      "outputs": [
        {
          "output_type": "execute_result",
          "data": {
            "text/plain": [
              "   id                                              title              author  \\\n",
              "0   0  House Dem Aide: We Didn’t Even See Comey’s Let...       Darrell Lucus   \n",
              "1   1  FLYNN: Hillary Clinton, Big Woman on Campus - ...     Daniel J. Flynn   \n",
              "2   2                  Why the Truth Might Get You Fired  Consortiumnews.com   \n",
              "3   3  15 Civilians Killed In Single US Airstrike Hav...     Jessica Purkiss   \n",
              "4   4  Iranian woman jailed for fictional unpublished...      Howard Portnoy   \n",
              "\n",
              "                                                text  label  \\\n",
              "0  House Dem Aide: We Didn’t Even See Comey’s Let...      1   \n",
              "1  Ever get the feeling your life circles the rou...      0   \n",
              "2  Why the Truth Might Get You Fired October 29, ...      1   \n",
              "3  Videos 15 Civilians Killed In Single US Airstr...      1   \n",
              "4  Print \\nAn Iranian woman has been sentenced to...      1   \n",
              "\n",
              "                                          title_text  \n",
              "0  darrell lucus house dem aide even see comey le...  \n",
              "1  daniel j flynn flynn hillary clinton big woman...  \n",
              "2  consortiumnews com truth might get fired truth...  \n",
              "3  jessica purkiss 15 civilians killed single us ...  \n",
              "4  howard portnoy iranian woman jailed fictional ...  "
            ],
            "text/html": [
              "\n",
              "  <div id=\"df-51841fc1-f1c9-4520-a09b-2ffb355242ee\">\n",
              "    <div class=\"colab-df-container\">\n",
              "      <div>\n",
              "<style scoped>\n",
              "    .dataframe tbody tr th:only-of-type {\n",
              "        vertical-align: middle;\n",
              "    }\n",
              "\n",
              "    .dataframe tbody tr th {\n",
              "        vertical-align: top;\n",
              "    }\n",
              "\n",
              "    .dataframe thead th {\n",
              "        text-align: right;\n",
              "    }\n",
              "</style>\n",
              "<table border=\"1\" class=\"dataframe\">\n",
              "  <thead>\n",
              "    <tr style=\"text-align: right;\">\n",
              "      <th></th>\n",
              "      <th>id</th>\n",
              "      <th>title</th>\n",
              "      <th>author</th>\n",
              "      <th>text</th>\n",
              "      <th>label</th>\n",
              "      <th>title_text</th>\n",
              "    </tr>\n",
              "  </thead>\n",
              "  <tbody>\n",
              "    <tr>\n",
              "      <th>0</th>\n",
              "      <td>0</td>\n",
              "      <td>House Dem Aide: We Didn’t Even See Comey’s Let...</td>\n",
              "      <td>Darrell Lucus</td>\n",
              "      <td>House Dem Aide: We Didn’t Even See Comey’s Let...</td>\n",
              "      <td>1</td>\n",
              "      <td>darrell lucus house dem aide even see comey le...</td>\n",
              "    </tr>\n",
              "    <tr>\n",
              "      <th>1</th>\n",
              "      <td>1</td>\n",
              "      <td>FLYNN: Hillary Clinton, Big Woman on Campus - ...</td>\n",
              "      <td>Daniel J. Flynn</td>\n",
              "      <td>Ever get the feeling your life circles the rou...</td>\n",
              "      <td>0</td>\n",
              "      <td>daniel j flynn flynn hillary clinton big woman...</td>\n",
              "    </tr>\n",
              "    <tr>\n",
              "      <th>2</th>\n",
              "      <td>2</td>\n",
              "      <td>Why the Truth Might Get You Fired</td>\n",
              "      <td>Consortiumnews.com</td>\n",
              "      <td>Why the Truth Might Get You Fired October 29, ...</td>\n",
              "      <td>1</td>\n",
              "      <td>consortiumnews com truth might get fired truth...</td>\n",
              "    </tr>\n",
              "    <tr>\n",
              "      <th>3</th>\n",
              "      <td>3</td>\n",
              "      <td>15 Civilians Killed In Single US Airstrike Hav...</td>\n",
              "      <td>Jessica Purkiss</td>\n",
              "      <td>Videos 15 Civilians Killed In Single US Airstr...</td>\n",
              "      <td>1</td>\n",
              "      <td>jessica purkiss 15 civilians killed single us ...</td>\n",
              "    </tr>\n",
              "    <tr>\n",
              "      <th>4</th>\n",
              "      <td>4</td>\n",
              "      <td>Iranian woman jailed for fictional unpublished...</td>\n",
              "      <td>Howard Portnoy</td>\n",
              "      <td>Print \\nAn Iranian woman has been sentenced to...</td>\n",
              "      <td>1</td>\n",
              "      <td>howard portnoy iranian woman jailed fictional ...</td>\n",
              "    </tr>\n",
              "  </tbody>\n",
              "</table>\n",
              "</div>\n",
              "      <button class=\"colab-df-convert\" onclick=\"convertToInteractive('df-51841fc1-f1c9-4520-a09b-2ffb355242ee')\"\n",
              "              title=\"Convert this dataframe to an interactive table.\"\n",
              "              style=\"display:none;\">\n",
              "        \n",
              "  <svg xmlns=\"http://www.w3.org/2000/svg\" height=\"24px\"viewBox=\"0 0 24 24\"\n",
              "       width=\"24px\">\n",
              "    <path d=\"M0 0h24v24H0V0z\" fill=\"none\"/>\n",
              "    <path d=\"M18.56 5.44l.94 2.06.94-2.06 2.06-.94-2.06-.94-.94-2.06-.94 2.06-2.06.94zm-11 1L8.5 8.5l.94-2.06 2.06-.94-2.06-.94L8.5 2.5l-.94 2.06-2.06.94zm10 10l.94 2.06.94-2.06 2.06-.94-2.06-.94-.94-2.06-.94 2.06-2.06.94z\"/><path d=\"M17.41 7.96l-1.37-1.37c-.4-.4-.92-.59-1.43-.59-.52 0-1.04.2-1.43.59L10.3 9.45l-7.72 7.72c-.78.78-.78 2.05 0 2.83L4 21.41c.39.39.9.59 1.41.59.51 0 1.02-.2 1.41-.59l7.78-7.78 2.81-2.81c.8-.78.8-2.07 0-2.86zM5.41 20L4 18.59l7.72-7.72 1.47 1.35L5.41 20z\"/>\n",
              "  </svg>\n",
              "      </button>\n",
              "      \n",
              "  <style>\n",
              "    .colab-df-container {\n",
              "      display:flex;\n",
              "      flex-wrap:wrap;\n",
              "      gap: 12px;\n",
              "    }\n",
              "\n",
              "    .colab-df-convert {\n",
              "      background-color: #E8F0FE;\n",
              "      border: none;\n",
              "      border-radius: 50%;\n",
              "      cursor: pointer;\n",
              "      display: none;\n",
              "      fill: #1967D2;\n",
              "      height: 32px;\n",
              "      padding: 0 0 0 0;\n",
              "      width: 32px;\n",
              "    }\n",
              "\n",
              "    .colab-df-convert:hover {\n",
              "      background-color: #E2EBFA;\n",
              "      box-shadow: 0px 1px 2px rgba(60, 64, 67, 0.3), 0px 1px 3px 1px rgba(60, 64, 67, 0.15);\n",
              "      fill: #174EA6;\n",
              "    }\n",
              "\n",
              "    [theme=dark] .colab-df-convert {\n",
              "      background-color: #3B4455;\n",
              "      fill: #D2E3FC;\n",
              "    }\n",
              "\n",
              "    [theme=dark] .colab-df-convert:hover {\n",
              "      background-color: #434B5C;\n",
              "      box-shadow: 0px 1px 3px 1px rgba(0, 0, 0, 0.15);\n",
              "      filter: drop-shadow(0px 1px 2px rgba(0, 0, 0, 0.3));\n",
              "      fill: #FFFFFF;\n",
              "    }\n",
              "  </style>\n",
              "\n",
              "      <script>\n",
              "        const buttonEl =\n",
              "          document.querySelector('#df-51841fc1-f1c9-4520-a09b-2ffb355242ee button.colab-df-convert');\n",
              "        buttonEl.style.display =\n",
              "          google.colab.kernel.accessAllowed ? 'block' : 'none';\n",
              "\n",
              "        async function convertToInteractive(key) {\n",
              "          const element = document.querySelector('#df-51841fc1-f1c9-4520-a09b-2ffb355242ee');\n",
              "          const dataTable =\n",
              "            await google.colab.kernel.invokeFunction('convertToInteractive',\n",
              "                                                     [key], {});\n",
              "          if (!dataTable) return;\n",
              "\n",
              "          const docLinkHtml = 'Like what you see? Visit the ' +\n",
              "            '<a target=\"_blank\" href=https://colab.research.google.com/notebooks/data_table.ipynb>data table notebook</a>'\n",
              "            + ' to learn more about interactive tables.';\n",
              "          element.innerHTML = '';\n",
              "          dataTable['output_type'] = 'display_data';\n",
              "          await google.colab.output.renderOutput(dataTable, element);\n",
              "          const docLink = document.createElement('div');\n",
              "          docLink.innerHTML = docLinkHtml;\n",
              "          element.appendChild(docLink);\n",
              "        }\n",
              "      </script>\n",
              "    </div>\n",
              "  </div>\n",
              "  "
            ]
          },
          "metadata": {},
          "execution_count": 20
        }
      ],
      "source": [
        "df_train.head()"
      ]
    },
    {
      "cell_type": "markdown",
      "source": [
        "**Implement word lemmatizatin on data set**"
      ],
      "metadata": {
        "id": "aLpbL6MX76o5"
      }
    },
    {
      "cell_type": "code",
      "source": [
        "#WhitespaceTokenizer and WordNetLemmatizer\n",
        "w_tokenizer = nltk.tokenize.WhitespaceTokenizer()\n",
        "lemmatizer = nltk.stem.WordNetLemmatizer()\n",
        "\n",
        "def lemmatize_text(text):\n",
        "    return [lemmatizer.lemmatize(w) for w in w_tokenizer.tokenize(text)]"
      ],
      "metadata": {
        "id": "VQgoAf9Uz_4w"
      },
      "execution_count": null,
      "outputs": []
    },
    {
      "cell_type": "code",
      "source": [
        "#Implement clean sentence feature by removing special characters, stopwords removal  and Lemmatization\n",
        "def clean_sent(data):\n",
        "    ### removing special characters \n",
        "    data=data.replace(\"n’t\",\" not\")\n",
        "    data=data.replace('\\W', ' ')\n",
        "\n",
        "    ### stopwords removal \n",
        "    #data =data.astype(str)\n",
        "    data = data.apply(lambda x: ' '.join([word for word in x.split() if word not in (stop)]))\n",
        "\n",
        "    ### Lemmatization \n",
        "    data = data.apply(lemmatize_text)\n",
        "    data = data.apply(lambda x: ' '.join(x))\n",
        "    return data\n",
        "#clean train data set\n",
        "df_train['title_text'] = clean_sent(df_train['title_text'])"
      ],
      "metadata": {
        "id": "JeQBtzdK0V1W"
      },
      "execution_count": null,
      "outputs": []
    },
    {
      "cell_type": "code",
      "source": [
        "##preprocessing the data\n",
        "import re\n",
        "def data_cleaning(text):\n",
        "    \n",
        "    # convert to lowercase\n",
        "    text = str(text).lower()  \n",
        "    \n",
        "    # remove single characters\n",
        "    text = re.sub(pattern=r'\\s+[a-zA-Z]\\s+',repl='',string = text) \n",
        "    \n",
        "    # Remove URls, whitespace characters  \n",
        "    text = re.sub(r'https?://\\S+|www\\.\\S+',repl='',string = text)  \n",
        "    \n",
        "    # Removes all the special characters, digits from 0-9 and Capital Letters  \n",
        "    text = re.sub(r'[^a-z\\s]',' ',string = text)\n",
        "    \n",
        "    # Substituting multiple spaces with single space\n",
        "    text = re.sub(r'\\s+', ' ', string = text)  \n",
        "    \n",
        "    return text\n",
        "\n",
        "\n",
        "df_train['title_text'] = df_train['title_text'].apply(lambda x: data_cleaning(x))"
      ],
      "metadata": {
        "id": "xaiR1tnexkkP"
      },
      "execution_count": null,
      "outputs": []
    },
    {
      "cell_type": "markdown",
      "source": [
        "**Merging text and title data**"
      ],
      "metadata": {
        "id": "_hQQ2x-6_AOz"
      }
    },
    {
      "cell_type": "code",
      "execution_count": null,
      "metadata": {
        "id": "8OAU_ReaBZvH"
      },
      "outputs": [],
      "source": [
        "X=df_train['title_text'].tolist()\n",
        "y=df_train['label'].tolist()\n",
        "\n",
        "from sklearn.model_selection import train_test_split\n",
        "X_train, X_test, y_train, y_test = train_test_split( X, y, test_size=0.30, random_state=30)#X, df_test.tolist(), y, df_labels['label'].tolist()"
      ]
    },
    {
      "cell_type": "markdown",
      "source": [
        "**Implement pad sequences on train and text data**"
      ],
      "metadata": {
        "id": "gwBzQMopBvqd"
      }
    },
    {
      "cell_type": "code",
      "source": [
        "vocab_size=10000\n",
        "embedding_dims=16\n",
        "truc_type=\"post\"\n",
        "oov_tok='<OOV>'\n",
        "tokenizer=Tokenizer(oov_token=\"<OOV>\")\n",
        "\n",
        "tokenizer.fit_on_texts(X_train)\n",
        "sequence=tokenizer.texts_to_sequences(X_train)\n",
        "\n",
        "max_length=0\n",
        "for s in sequence: \n",
        "  if max_length<len(s):\n",
        "    max_length=len(s)\n",
        "\n",
        "X_train_padded=pad_sequences(sequence, maxlen=max_length, truncating=truc_type)\n",
        "\n",
        "word_index=tokenizer.word_index\n",
        "word_index\n",
        "\n",
        "testing_sequences=tokenizer.texts_to_sequences(X_test)\n",
        "x_test_padded=pad_sequences(testing_sequences, maxlen=max_length, truncating=truc_type)"
      ],
      "metadata": {
        "id": "hjEnGeFWHGRY"
      },
      "execution_count": null,
      "outputs": []
    },
    {
      "cell_type": "code",
      "source": [
        "# saving\n",
        "with open('tokenizer.pickle', 'wb') as handle:\n",
        "    pickle.dump(tokenizer, handle, protocol=pickle.HIGHEST_PROTOCOL)"
      ],
      "metadata": {
        "id": "7cRlgN5FvK0a"
      },
      "execution_count": null,
      "outputs": []
    },
    {
      "cell_type": "markdown",
      "source": [
        "**Check length of test and train data set**"
      ],
      "metadata": {
        "id": "GYLETgM6B2Q3"
      }
    },
    {
      "cell_type": "code",
      "source": [
        "print(\"X train padded : \" , X_train_padded.shape)\n",
        "print(\"x test padded : \" ,x_test_padded.shape)\n",
        "print(\"y test len : \",len(y_test))\n",
        "print(\"y train len : \",len(y_train))"
      ],
      "metadata": {
        "colab": {
          "base_uri": "https://localhost:8080/"
        },
        "id": "-80U4jPJAGZ9",
        "outputId": "96484791-3627-4e89-f6bf-d7046321c259"
      },
      "execution_count": null,
      "outputs": [
        {
          "output_type": "stream",
          "name": "stdout",
          "text": [
            "X train padded :  (14823, 11920)\n",
            "x test padded :  (6354, 11920)\n",
            "y test len :  6354\n",
            "y train len :  14823\n"
          ]
        }
      ]
    },
    {
      "cell_type": "code",
      "source": [
        "# Define path to file containing the embeddings\n",
        "GLOVE_FILE = './glove.6B.100d.txt'\n",
        "\n",
        "# Initialize an empty embeddings index dictionary\n",
        "GLOVE_EMBEDDINGS = {}\n",
        "\n",
        "# Read file and fill GLOVE_EMBEDDINGS with its contents\n",
        "with open(GLOVE_FILE, 'r', errors = 'ignore', encoding='utf8') as f:\n",
        "    for line in f:\n",
        "        values = line.split()\n",
        "        values = ['0' if x=='.' else x for x in values]\n",
        "        word = values[0]\n",
        "        coefs = np.asarray(values[1:], dtype='float32')\n",
        "        GLOVE_EMBEDDINGS[word] = coefs\n",
        "\n",
        "f.close()"
      ],
      "metadata": {
        "id": "FPB6UU9NaGEl"
      },
      "execution_count": null,
      "outputs": []
    },
    {
      "cell_type": "code",
      "source": [
        "EMBEDDING_DIM = 100\n",
        "word_index = tokenizer.word_index\n",
        "vocab_size = len(tokenizer.word_index) + 1\n",
        "# Initialize empty numpy array with the appropriate size\n",
        "EMBEDDINGS_MATRIX = np.zeros((vocab_size+1, EMBEDDING_DIM))\n",
        "\n",
        "# Iterate all of the words in the vocabulary\n",
        "for word, i in word_index.items():\n",
        "    embedding_vector = GLOVE_EMBEDDINGS.get(word)\n",
        "    if embedding_vector is not None:\n",
        "        EMBEDDINGS_MATRIX[i] = embedding_vector"
      ],
      "metadata": {
        "id": "D_YzolLXaHaO"
      },
      "execution_count": null,
      "outputs": []
    },
    {
      "cell_type": "markdown",
      "source": [
        "**Create model and fit dat**"
      ],
      "metadata": {
        "id": "0kwgZ5kuCg72"
      }
    },
    {
      "cell_type": "code",
      "source": [
        "# when accuracy reaches e.g. ACCURACY_THRESHOLD = 0.95\n",
        "ACCURACY_THRESHOLD = 0.95\n",
        "class myCallback(tf.keras.callbacks.Callback): \n",
        "    def on_epoch_end(self, epoch, logs={}): \n",
        "      if(logs.get('val_accuracy') > ACCURACY_THRESHOLD):   \n",
        "        print(\"\\nReached %2.2f%% accuracy, so stopping training!!\" %(ACCURACY_THRESHOLD*100))   \n",
        "        self.model.stop_training = True"
      ],
      "metadata": {
        "id": "FXCJ9MnLzS7K"
      },
      "execution_count": null,
      "outputs": []
    },
    {
      "cell_type": "code",
      "source": [
        "model=tf.keras.Sequential([\n",
        "          #tf.keras.layers.Embedding(vocab_size, embedding_dims, input_length=max_length),\n",
        "          tf.keras.layers.Embedding(vocab_size+1, EMBEDDING_DIM, input_length=max_length, weights=[EMBEDDINGS_MATRIX]),\n",
        "          tf.keras.layers.Dropout(0.3),\n",
        "          tf.keras.layers.Bidirectional (tf.keras.layers.LSTM(units=128, return_sequences=True)),\n",
        "          tf.keras.layers.Dropout(0.4),\n",
        "          tf.keras.layers.LSTM(units=128),\n",
        "          tf.keras.layers.Dropout(0.3),\n",
        "          tf.keras.layers.Dense(1, activation='sigmoid')                       \n",
        "])\n",
        "callbacks = myCallback()                                                                                                                                                                    \n",
        "model.compile(loss='binary_crossentropy', optimizer='adam', metrics=['accuracy'])\n",
        "training = model.fit(X_train_padded, np.array(y_train), epochs=20, validation_data=(x_test_padded, np.array(y_test)), callbacks=[callbacks])"
      ],
      "metadata": {
        "colab": {
          "base_uri": "https://localhost:8080/"
        },
        "id": "MfBqCzjCITK7",
        "outputId": "f1f253fb-e984-47e3-dc9c-cb9105705303"
      },
      "execution_count": null,
      "outputs": [
        {
          "output_type": "stream",
          "name": "stdout",
          "text": [
            "Epoch 1/20\n",
            "464/464 [==============================] - 846s 2s/step - loss: 0.3740 - accuracy: 0.8410 - val_loss: 0.3093 - val_accuracy: 0.8727\n",
            "Epoch 2/20\n",
            "464/464 [==============================] - 840s 2s/step - loss: 0.2729 - accuracy: 0.8928 - val_loss: 0.2560 - val_accuracy: 0.9142\n",
            "Epoch 3/20\n",
            "464/464 [==============================] - 838s 2s/step - loss: 0.1804 - accuracy: 0.9396 - val_loss: 0.2118 - val_accuracy: 0.9249\n",
            "Epoch 4/20\n",
            "464/464 [==============================] - 839s 2s/step - loss: 0.1138 - accuracy: 0.9681 - val_loss: 0.3442 - val_accuracy: 0.9067\n",
            "Epoch 5/20\n",
            "464/464 [==============================] - 838s 2s/step - loss: 0.0828 - accuracy: 0.9781 - val_loss: 0.2638 - val_accuracy: 0.9303\n",
            "Epoch 6/20\n",
            "464/464 [==============================] - 838s 2s/step - loss: 0.0558 - accuracy: 0.9858 - val_loss: 0.3191 - val_accuracy: 0.9276\n",
            "Epoch 7/20\n",
            "464/464 [==============================] - 838s 2s/step - loss: 0.0473 - accuracy: 0.9883 - val_loss: 0.2890 - val_accuracy: 0.9267\n",
            "Epoch 8/20\n",
            "464/464 [==============================] - 840s 2s/step - loss: 0.0413 - accuracy: 0.9895 - val_loss: 0.3050 - val_accuracy: 0.9212\n",
            "Epoch 9/20\n",
            "464/464 [==============================] - 844s 2s/step - loss: 0.0312 - accuracy: 0.9924 - val_loss: 0.3697 - val_accuracy: 0.9207\n",
            "Epoch 10/20\n",
            "464/464 [==============================] - 841s 2s/step - loss: 0.0272 - accuracy: 0.9941 - val_loss: 0.3585 - val_accuracy: 0.9152\n",
            "Epoch 11/20\n",
            "464/464 [==============================] - 843s 2s/step - loss: 0.0251 - accuracy: 0.9943 - val_loss: 0.4520 - val_accuracy: 0.9141\n",
            "Epoch 12/20\n",
            "464/464 [==============================] - 844s 2s/step - loss: 0.0211 - accuracy: 0.9951 - val_loss: 0.3785 - val_accuracy: 0.9167\n",
            "Epoch 13/20\n",
            "464/464 [==============================] - 845s 2s/step - loss: 0.0214 - accuracy: 0.9950 - val_loss: 0.4486 - val_accuracy: 0.9188\n",
            "Epoch 14/20\n",
            "464/464 [==============================] - 845s 2s/step - loss: 0.0198 - accuracy: 0.9952 - val_loss: 0.4555 - val_accuracy: 0.9178\n",
            "Epoch 15/20\n",
            "464/464 [==============================] - 845s 2s/step - loss: 0.0171 - accuracy: 0.9955 - val_loss: 0.4963 - val_accuracy: 0.9180\n",
            "Epoch 16/20\n",
            "464/464 [==============================] - 845s 2s/step - loss: 0.0164 - accuracy: 0.9959 - val_loss: 0.4533 - val_accuracy: 0.9169\n",
            "Epoch 17/20\n",
            "464/464 [==============================] - 843s 2s/step - loss: 0.0145 - accuracy: 0.9962 - val_loss: 0.4980 - val_accuracy: 0.9163\n",
            "Epoch 18/20\n",
            "464/464 [==============================] - 842s 2s/step - loss: 0.0156 - accuracy: 0.9960 - val_loss: 0.4653 - val_accuracy: 0.9145\n",
            "Epoch 19/20\n",
            "464/464 [==============================] - 837s 2s/step - loss: 0.0147 - accuracy: 0.9967 - val_loss: 0.5015 - val_accuracy: 0.9130\n",
            "Epoch 20/20\n",
            "464/464 [==============================] - 837s 2s/step - loss: 0.0145 - accuracy: 0.9964 - val_loss: 0.4034 - val_accuracy: 0.9175\n"
          ]
        }
      ]
    },
    {
      "cell_type": "code",
      "source": [
        "def predict_fake_news(score):\n",
        "    return 1 if score>0.5 else 0\n",
        "history = model.predict(x_test_padded)\n",
        "model_predictions = [predict_fake_news(score) for score in history]"
      ],
      "metadata": {
        "id": "tTVKOXZGeAvE"
      },
      "execution_count": null,
      "outputs": []
    },
    {
      "cell_type": "markdown",
      "source": [
        "**Loss and Accuracy curve**"
      ],
      "metadata": {
        "id": "ldCUnHNCeVYG"
      }
    },
    {
      "cell_type": "code",
      "source": [
        "import matplotlib.pyplot as plt\n",
        "loss = training.history['loss']\n",
        "val_loss = training.history['val_loss']\n",
        "\n",
        "epochs = [*range(20)]\n",
        "\n",
        "plt.plot(epochs, loss, 'r')\n",
        "plt.plot(epochs, val_loss, 'b')\n",
        "plt.title('Training and validation loss')\n",
        "plt.xlabel(\"Epochs\")\n",
        "plt.ylabel(\"Loss\")\n",
        "plt.legend([\"Loss\", \"Validation Loss\"])\n",
        "plt.show()"
      ],
      "metadata": {
        "id": "yGUGOkgweXpf",
        "colab": {
          "base_uri": "https://localhost:8080/",
          "height": 295
        },
        "outputId": "b366fa92-647d-4d48-8577-25bfc8e0ad52"
      },
      "execution_count": null,
      "outputs": [
        {
          "output_type": "display_data",
          "data": {
            "text/plain": [
              "<Figure size 432x288 with 1 Axes>"
            ],
            "image/png": "[encoded data removed]"
          },
          "metadata": {
            "needs_background": "light"
          }
        }
      ]
    },
    {
      "cell_type": "code",
      "source": [
        "acc = training.history['accuracy']\n",
        "val_acc = training.history['val_accuracy']\n",
        "\n",
        "\n",
        "plt.plot(epochs, acc, 'r')\n",
        "plt.plot(epochs, val_acc, 'b')\n",
        "plt.title('Training and validation accuracy')\n",
        "plt.xlabel(\"Epochs\")\n",
        "plt.ylabel(\"Accuracy\")\n",
        "plt.legend([\"Accuracy\", \"Validation Accuracy\"])\n",
        "plt.show()"
      ],
      "metadata": {
        "id": "tMBEGTD7ea_t",
        "colab": {
          "base_uri": "https://localhost:8080/",
          "height": 295
        },
        "outputId": "96a54bf6-d078-44d9-d064-1bcbd8aa0c96"
      },
      "execution_count": null,
      "outputs": [
        {
          "output_type": "display_data",
          "data": {
            "text/plain": [
              "<Figure size 432x288 with 1 Axes>"
            ],
            "image/png": "[encoded data removed]"
          },
          "metadata": {
            "needs_background": "light"
          }
        }
      ]
    },
    {
      "cell_type": "markdown",
      "source": [
        "**Classification report**"
      ],
      "metadata": {
        "id": "YC457zyIed2R"
      }
    },
    {
      "cell_type": "code",
      "source": [
        "from sklearn.metrics import classification_report\n",
        "import seaborn as sns\n",
        "from sklearn.metrics import confusion_matrix"
      ],
      "metadata": {
        "id": "gwrnn6Y1edUd"
      },
      "execution_count": null,
      "outputs": []
    },
    {
      "cell_type": "code",
      "source": [
        "cf_matrix = confusion_matrix(np.array(y_test), np.array(model_predictions))\n",
        "sns.heatmap(cf_matrix, annot=True,  fmt=\"d\")"
      ],
      "metadata": {
        "id": "aEsy9igBehzi",
        "colab": {
          "base_uri": "https://localhost:8080/",
          "height": 282
        },
        "outputId": "2bf95fac-e6b8-4417-8907-59e4499c5f9c"
      },
      "execution_count": null,
      "outputs": [
        {
          "output_type": "execute_result",
          "data": {
            "text/plain": [
              "<matplotlib.axes._subplots.AxesSubplot at 0x7f5caa84e6d0>"
            ]
          },
          "metadata": {},
          "execution_count": 40
        },
        {
          "output_type": "display_data",
          "data": {
            "text/plain": [
              "<Figure size 432x288 with 2 Axes>"
            ],
            "image/png": "[encoded data removed]"
          },
          "metadata": {
            "needs_background": "light"
          }
        }
      ]
    },
    {
      "cell_type": "code",
      "source": [
        "print(classification_report(list(y_test), model_predictions))"
      ],
      "metadata": {
        "id": "1HG28WAlfKb5",
        "colab": {
          "base_uri": "https://localhost:8080/"
        },
        "outputId": "8bdcfe26-e64f-41ab-b331-2d14d8d585b2"
      },
      "execution_count": null,
      "outputs": [
        {
          "output_type": "stream",
          "name": "stdout",
          "text": [
            "              precision    recall  f1-score   support\n",
            "\n",
            "           0       0.93      0.91      0.92      3251\n",
            "           1       0.91      0.93      0.92      3103\n",
            "\n",
            "    accuracy                           0.92      6354\n",
            "   macro avg       0.92      0.92      0.92      6354\n",
            "weighted avg       0.92      0.92      0.92      6354\n",
            "\n"
          ]
        }
      ]
    },
    {
      "cell_type": "markdown",
      "source": [
        "**Save model**"
      ],
      "metadata": {
        "id": "l76AC5jCCyGC"
      }
    },
    {
      "cell_type": "code",
      "source": [
        "model.save(\"fake_news.h5\")"
      ],
      "metadata": {
        "id": "W7pplxGSKv1l"
      },
      "execution_count": null,
      "outputs": []
    },
    {
      "cell_type": "markdown",
      "source": [
        "**Predict model on random data**"
      ],
      "metadata": {
        "id": "9kMfIR-LC0f-"
      }
    },
    {
      "cell_type": "code",
      "source": [
        "x10=['Ever get the feeling your life circles the roundabout rather than heads in a straight line toward the intended destination? [Hillary Clinton remains the big woman on campus in leafy, liberal Wellesley, Massachusetts. Everywhere else votes her most likely to don her inauguration dress for the remainder of her days the way Miss Havisham forever wore that wedding dress.  Speaking of Great Expectations, Hillary Rodham overflowed with them 48 years ago when she first addressed a Wellesley graduating class. The president of the college informed those gathered in 1969 that the students needed â€œno debate so far as I could ascertain as to who their spokesman was to beâ€ (kind of the like the Democratic primaries in 2016 minus the   terms unknown then even at a Seven Sisters school). â€œI am very glad that Miss Adams made it clear that what I am speaking for today is all of us â€”  the 400 of us,â€ Miss Rodham told her classmates. After appointing herself Edger Bergen to the Charlie McCarthys and Mortimer Snerds in attendance, the    bespectacled in granny glasses (awarding her matronly wisdom â€”  or at least John Lennon wisdom) took issue with the previous speaker. Despite becoming the first   to win election to a seat in the U. S. Senate since Reconstruction, Edward Brooke came in for criticism for calling for â€œempathyâ€ for the goals of protestors as he criticized tactics. Though Clinton in her senior thesis on Saul Alinsky lamented â€œBlack Power demagoguesâ€ and â€œelitist arrogance and repressive intoleranceâ€ within the New Left, similar words coming out of a Republican necessitated a brief rebuttal. â€œTrust,â€ Rodham ironically observed in 1969, â€œthis is one word that when I asked the class at our rehearsal what it was they wanted me to say for them, everyone came up to me and said â€˜Talk about trust, talk about the lack of trust both for us and the way we feel about others. Talk about the trust bust.â€™ What can you say about it? What can you say about a feeling that permeates a generation and that perhaps is not even understood by those who are distrusted?â€ The â€œtrust bustâ€ certainly busted Clintonâ€™s 2016 plans. She certainly did not even understand that people distrusted her. After Whitewater, Travelgate, the vast   conspiracy, Benghazi, and the missing emails, Clinton found herself the distrusted voice on Friday. There was a load of compromising on the road to the broadening of her political horizons. And distrust from the American people â€”  Trump edged her 48 percent to 38 percent on the question immediately prior to Novemberâ€™s election â€”  stood as a major reason for the closing of those horizons. Clinton described her vanquisher and his supporters as embracing a â€œlie,â€ a â€œcon,â€ â€œalternative facts,â€ and â€œa   assault on truth and reason. â€ She failed to explain why the American people chose his lies over her truth. â€œAs the history majors among you here today know all too well, when people in power invent their own facts and attack those who question them, it can mark the beginning of the end of a free society,â€ she offered. â€œThat is not hyperbole. â€ Like so many people to emerge from the 1960s, Hillary Clinton embarked upon a long, strange trip. From high school Goldwater Girl and Wellesley College Republican president to Democratic politician, Clinton drank in the times and the place that gave her a degree. More significantly, she went from idealist to cynic, as a comparison of her two Wellesley commencement addresses show. Way back when, she lamented that â€œfor too long our leaders have viewed politics as the art of the possible, and the challenge now is to practice politics as the art of making what appears to be impossible possible. â€ Now, as the big woman on campus but the odd woman out of the White House, she wonders how her current station is even possible. â€œWhy arenâ€™t I 50 points ahead?â€ she asked in September. In May she asks why she isnâ€™t president. The woman famously dubbed a â€œcongenital liarâ€ by Bill Safire concludes that lies did her in â€”  theirs, mind you, not hers. Getting stood up on Election Day, like finding yourself the jilted bride on your wedding day, inspires dangerous delusions.']\n",
        "x40=[\"In these trying times, Jackie Mason is the Voice of Reason. [In this weekâ€™s exclusive clip for Breitbart News, Jackie discusses the looming threat of North Korea, and explains how President Donald Trump could win the support of the Hollywood left if the U. S. needs to strike first.  â€œIf he decides to bomb them, the whole country will be behind him, because everybody will realize he had no choice and that was the only thing to do,â€ Jackie says. â€œExcept the Hollywood left. Theyâ€™ll get nauseous. â€ â€œ[Trump] could win the left over, theyâ€™ll fall in love with him in a minute. If he bombed them for a better reason,â€ Jackie explains. â€œLike if they have no transgender toilets. â€ Jackie also says itâ€™s no surprise that Hollywood celebrities didnâ€™t support Trumpâ€™s strike on a Syrian airfield this month. â€œThey were infuriated,â€ he says. â€œBecause it might only save lives. That doesnâ€™t mean anything to them. If it only saved the environment, or climate change! Theyâ€™d be the happiest people in the world. â€ Still, Jackie says heâ€™s got nothing against Hollywood celebs. Theyâ€™ve got a tough life in this country. Watch Jackieâ€™s latest clip above.   Follow Daniel Nussbaum on Twitter: @dznussbaum\"]\n",
        "x21=[\"A Caddo Nation tribal leader has just been freed after spending two days behind bars in North Dakota. Family members say she was simply an innocent bystander in a clash between police and protesters, and was not guilty of anything the police claimed. Via AlternativeNews Jessi Mitchell, of local News 9 reports that â€œfamily members of Caddo Nation chairwoman Tamara Francis-Fourkiller said an anonymous donor paid $2.5 million late Saturday afternoon to release everyone arrested on Thursday at the Dakota Access Pipeline site.â€They added, however, that Francis-Fourkiller was never supposed to have been arrested in the first place. â€œAn expert on sacred burial grounds , Francis-Fourkiller was one of the tribal leaders visiting the Sioux of Standing Rock to advise them during negotiations with the Dakota Access Pipeline construction team,â€ Mitchell continues. â€œRemains were being desecrated in this pipeline, so they had asked a bunch of people to come up there, so thereâ€™s a big conference,â€ Francis-Fourkillerâ€™s sister Loretta Francis explained.On the visit , Francis said her sister and other leaders decided to tour the protest camps. They never thought they would wind up in jail. Francis said her sister had no access to her medication while in custody in Cass County, North Dakota, and now faces charges of conspiracy and rioting. â€œPart of my family was removed on the Trail of Tears and they came here to Oklahoma and they suffered,â€ said Francis. â€œI always feel like each generation â€“ our parents, our grandparents â€“ try to make it better for the next generation and they certainly didnâ€™t want this for my sister.â€Dozens of Native Americans from Oklahoma tribes had gathered Saturday afternoon at the state Capitol, according to Mitchell, with the purpose of voicing their â€œanger at the treatment of the protesters in North Dakota, pointing out this weekâ€™s acquittal of armed protesters at an Oregon wildlife refuge earlier this year.â€â€œWeâ€™re not holding guns. Weâ€™re not armed, and when we see the military right here in the US use that on us, itâ€™s shameful,â€ Comanche Nation tribal council member Sonya Nevaquaya explained.One of the fundamentals of all Native American tribes is the protection of the land. Chanting â€œWater is life!â€ Saturday, the Oklahoma demonstrators hope to rally people from around the country to stand with those in North Dakota and stop construction on the pipeline project. â€œThese pipelines, you hear of a lot of bursts and leaks and it contaminating the waters. What happens when all of our waters and resources are gone?â€ Nevaquaya explained. Francis-Fourkiller says she will be traveling back to her home in Norman as soon as possible.\"]\n",
        "x31=[\"The mystery surrounding The Third Reich and Nazi Germany is still a subject of debate between many observers. Some believe that Nazi Germany, under the control of Adolf Hitler, possessed supernatural powers, and largely employed pseudo-science during the 1933-1945 period. However, some also hold that the above belief is just a mere speculation without any proven fact. Over the years, researchers have searched extensively for answers to some of the more mysterious activities associated with Nazi Germany.Nazi Germany invaded Russia (formerly the USSR) during the Second World War on June 22, 1941. At the time, the German army progressed deep into Russian territory, gaining ground close to the capital Moscow, before the Russians could counter-attack, eventually driving the Nazis back.During the Nazi occupation in Russia, in 1942, the Nazis built a secret military base around the Arctic, code-named â€œSchatzgraberâ€ or â€œTreasure Hunter,â€ which was reportedly very instrumental in the war against Russia. The base was primarily used as a tactical weather station for planning the strategic movements of Nazi troops, warships and submarines. The base also housed eminent Nazi scientists, whom conducted many experiments to help progress a German win of the war. It was widely speculated at the time that the Nazis used the base to contact aliens or extraterrestrial beings. The controversial Ahnenerbe was even linked to the base. The Ahnenerbe was an institute in Nazi Germany. Responsible for researching archaeological and cultural history of the Aryan race, it is rumored to have had heavy occult influences. Founded on July 1, 1935, by Heinrich Himmler, Herman Wirth and Richard Walther DarrÃ©, the Ahnenerbe later conducted experiments and launched expeditions in attempts to prove that mythological Nordic populations had once ruled the world.However, the Nazis abandoned the base in 1944 â€“ a time when the Russian army began its offensive, pushing the Germans out of the country. According to a war-time story, supplies had dwindled to dangerously low levels, and the Nazi officers stationed at the base outpost were forced to kill and eat polar bear, which ultimately, was infected with trichinosis. This caused those stationed at the base to fall severely ill and eventually they required rescue by a German U-boat. Despite Russian authors telling the story of â€œTreasure Hunter,â€ some observers consider it a myth, doubting its existence.But Russian researchers have now announced that â€œTreasure Hunterâ€ has been discovered, saying the base is on the island of Alexandra Land in the Arctic Circle, located 620 miles from the North Pole.A senior researcher at the Russian Arctic National Park, Evgeny Ermolov said in a statement announcing the discovery : â€œBefore it was only known from written sources, but now we also have real proof.â€\" ]\n"
      ],
      "metadata": {
        "id": "gDJiiaOwSgVW"
      },
      "execution_count": null,
      "outputs": []
    },
    {
      "cell_type": "code",
      "source": [
        "sequence=tokenizer.texts_to_sequences(x31)\n",
        "# Pad the sequences\n",
        "token_list = pad_sequences(sequence, maxlen=max_length, truncating=truc_type)\n",
        "# Get the probabilities of predicting a word\n",
        "predicted_prob = model.predict(token_list)\n",
        "# Choose the next word based on the maximum probability\n",
        "predicted = 1 if predicted_prob[0][0] > .5 else 0\n",
        "print(predicted)\n",
        "\n",
        "#fake = 0 \n",
        "#real = 1\n"
      ],
      "metadata": {
        "id": "uzoR8Nnoo51z",
        "colab": {
          "base_uri": "https://localhost:8080/"
        },
        "outputId": "b9d245ad-6e32-4fa3-d88d-40cdc9b717c6"
      },
      "execution_count": null,
      "outputs": [
        {
          "output_type": "stream",
          "name": "stdout",
          "text": [
            "1\n"
          ]
        }
      ]
    },
    {
      "cell_type": "code",
      "source": [
        "model = tf.keras.models.load_model(\"fake_news.h5\")"
      ],
      "metadata": {
        "id": "aPSMT-0P7hP5"
      },
      "execution_count": null,
      "outputs": []
    },
    {
      "cell_type": "code",
      "source": [
        "df_test[\"title_text\"]=df_test['title']+\" \"+df_test['text']+\" \"+df_test['author']\n",
        "\n",
        "### covert to lowercase\n",
        "df_test[\"title_text\"]=df_test[\"title_text\"].str.lower()\n",
        "\n",
        "### removing special characters \n",
        "df_test[\"title_text\"]=df_test[\"title_text\"].str.replace(\"n’t\",\" not\")\n",
        "df_test[\"title_text\"]=df_test[\"title_text\"].str.replace('\\W', ' ')\n",
        "\n",
        "### stopwords removal \n",
        "df_test['title_text'] =df_test['title_text'].astype(str)\n",
        "df_test['title_text'] = df_test['title_text'].apply(lambda x: ' '.join([word for word in x.split() if word not in (stop)]))\n",
        "\n",
        "### Lemmatization \n",
        "df_test['title_text']=df_test['title_text'].apply(lemmatize_text)\n",
        "df_test['title_text']=df_test['title_text'].apply(lambda x: ' '.join(x))\n",
        "\n",
        "\n",
        "df_test['title_text'] = df_test['title_text'].apply(lambda x: data_cleaning(x))\n",
        "test_sequences=tokenizer.texts_to_sequences(df_test['title_text'])\n",
        "x_test_padded=pad_sequences(test_sequences, maxlen=max_length, truncating=truc_type)\n",
        "\n"
      ],
      "metadata": {
        "id": "tN0B230gThZc",
        "colab": {
          "base_uri": "https://localhost:8080/"
        },
        "outputId": "7aa787ce-2603-49ca-8e64-86e8501f4062"
      },
      "execution_count": null,
      "outputs": [
        {
          "output_type": "stream",
          "name": "stderr",
          "text": [
            "/usr/local/lib/python3.7/dist-packages/ipykernel_launcher.py:8: FutureWarning: The default value of regex will change from True to False in a future version.\n",
            "  \n"
          ]
        }
      ]
    },
    {
      "cell_type": "code",
      "source": [
        "def predict_fake_news(score):\n",
        "    return 1 if score>0.5 else 0\n",
        "history = model.predict(x_test_padded)\n",
        "model_predictions = [predict_fake_news(score) for score in history]"
      ],
      "metadata": {
        "id": "cJ20EcvOUCgF"
      },
      "execution_count": null,
      "outputs": []
    },
    {
      "cell_type": "code",
      "source": [
        "print(classification_report(df_labels['label'].tolist(), model_predictions))"
      ],
      "metadata": {
        "id": "dQPHI1NtUnhw",
        "colab": {
          "base_uri": "https://localhost:8080/"
        },
        "outputId": "fa69a5c8-d514-4f2d-8c6f-612b1e1c3563"
      },
      "execution_count": null,
      "outputs": [
        {
          "output_type": "stream",
          "name": "stdout",
          "text": [
            "              precision    recall  f1-score   support\n",
            "\n",
            "           0       0.64      0.67      0.66      2339\n",
            "           1       0.72      0.69      0.71      2861\n",
            "\n",
            "    accuracy                           0.68      5200\n",
            "   macro avg       0.68      0.68      0.68      5200\n",
            "weighted avg       0.68      0.68      0.68      5200\n",
            "\n"
          ]
        }
      ]
    },
    {
      "cell_type": "code",
      "source": [
        "cf_matrix = confusion_matrix(np.array(df_labels['label']), np.array(model_predictions))\n",
        "sns.heatmap(cf_matrix, annot=True,  fmt=\"d\")"
      ],
      "metadata": {
        "id": "2qWFNdVVEAS6",
        "colab": {
          "base_uri": "https://localhost:8080/",
          "height": 282
        },
        "outputId": "ffd09354-768b-4761-8a67-f210e333d916"
      },
      "execution_count": null,
      "outputs": [
        {
          "output_type": "execute_result",
          "data": {
            "text/plain": [
              "<matplotlib.axes._subplots.AxesSubplot at 0x7f5c9d30e790>"
            ]
          },
          "metadata": {},
          "execution_count": 49
        },
        {
          "output_type": "display_data",
          "data": {
            "text/plain": [
              "<Figure size 432x288 with 2 Axes>"
            ],
            "image/png": "[encoded data removed]"
          },
          "metadata": {
            "needs_background": "light"
          }
        }
      ]
    },
    {
      "cell_type": "code",
      "source": [
        ""
      ],
      "metadata": {
        "id": "IB3fn2SNyCRC"
      },
      "execution_count": null,
      "outputs": []
    }
  ],
  "metadata": {
    "accelerator": "GPU",
    "colab": {
      "collapsed_sections": [],
      "machine_shape": "hm",
      "name": "fake_news_prediction.ipynb",
      "provenance": [],
      "toc_visible": true
    },
    "gpuClass": "standard",
    "kernelspec": {
      "display_name": "Python 3 (ipykernel)",
      "language": "python",
      "name": "python3"
    },
    "language_info": {
      "codemirror_mode": {
        "name": "ipython",
        "version": 3
      },
      "file_extension": ".py",
      "mimetype": "text/x-python",
      "name": "python",
      "nbconvert_exporter": "python",
      "pygments_lexer": "ipython3",
      "version": "3.8.8"
    }
  },
  "nbformat": 4,
  "nbformat_minor": 0
}